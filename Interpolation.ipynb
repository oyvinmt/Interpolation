{
 "cells": [
  {
   "cell_type": "markdown",
   "metadata": {},
   "source": [
    "# Interpolation\n",
    "\n",
    "In this exercise we will look at one dimensional interpolation as a way to approximate new data points from a discrete set of known data.\n",
    "\n",
    "## Warm up: Linear interpolation\n",
    "\n",
    "The first method we will implement is linear interpolation. This is one of the simplest ways to interpolate between points that can give good results.\n",
    "\n",
    "Let's assume as an example that we have a set of temperature measurements done different times. If we want to approximate the temperature between two of the measured times, one way to do that would be to draw a straight line between the two known measurements, we can think of these as coordinate pairs $(x_1,y_1)$ and $(x_2,y_2)$, and use that as an approximation."
   ]
  },
  {
   "cell_type": "markdown",
   "metadata": {},
   "source": [
    "## a)\n",
    "\n",
    "Implement the following pseudocode in the function definition below:\n",
    "\n",
    "slope = (y_end - y_start) / (x_end - x_start)\n",
    "\n",
    "interpolate = y_start + (interpolation_point - x_start) * slope\n",
    "\n",
    "Remember that in Python, the first element in a list of n elements has index 0 and the last element has index n-1. E.g. if we make a list of 3 elements and we want to print the first element, we would write\n",
    "\n",
    "```\n",
    "list_of_stuff = [1,2,3]\n",
    "print(list_of_stuff[0])\n",
    "1\n",
    ">>>\n",
    "```\n",
    "\n",
    "The code below should print 18.4 when it interpolates correctly.\n"
   ]
  },
  {
   "cell_type": "code",
   "execution_count": 22,
   "metadata": {},
   "outputs": [
    {
     "name": "stdout",
     "output_type": "stream",
     "text": [
      "18.4\n"
     ]
    }
   ],
   "source": [
    "\n",
    "\n",
    "x_data = [0.0,2.0]\n",
    "y_data = [22.3,14.5]\n",
    "point = 1.0\n",
    "\n",
    "def linear_interpolation(x,y,point):\n",
    "    \"\"\"This function should take two lists containing two numbers each, corresponding to two points,\n",
    "    and a number as an input. It should return the linear interpolation at the point between the two points\"\"\"\n",
    "    ##Write your code here\n",
    "    \n",
    "    return interpolated_y_value\n",
    "\n",
    "\n",
    "inter_val = linear_interpolation(x_data,y_data, point)\n",
    "print(inter_val)\n"
   ]
  },
  {
   "cell_type": "markdown",
   "metadata": {},
   "source": [
    "Next, we want to expand the functionality of the code above. If we have very large datasets and/or we want to interpolate many points it can be tedious and time consuming to manually go through the list and finding the indeces of the points. It would be nice if we could give larger datasets together with a point as inputs, and make the function figure out where it should interpolate.\n",
    "\n",
    "One thing we can do to achieve this is run through our list of \"x-values\" and check if the point we have given lies between the current value in the list, and the next one.\n",
    "\n",
    "For example, let's take a list that is similar to the one we used above and imagine that it is a set of times. We now want to find out what points we want to use if we are to interpolate at the time 2.5. In pseudocode we want to do something like this:\n",
    "\n",
    "```\n",
    "list_of_stuff = [1,2,3,4]\n",
    "point = 2.5\n",
    "\n",
    "for i in range(length of list_of_stuff):\n",
    "    if point > list_of_stuff[i] and point < list_of_stuff[i+1]:\n",
    "        use the index i to interpolate\n",
    "        break\n",
    "```\n",
    "\n",
    "In this small example we can go through what is going to happen step by step. The loop will start out with i = 0, so the list element with index i = 0 becomes 1, the element with index i + 1 = 1 becomes 2. First it checks if 2.5 larger than 1, then it checks if 2 is less than 2.5 and executes the code in the if-statement only if both of those are true. Clearly, 2 is larger than 2.5, so it does not execute. \n",
    "\n",
    "On the next loop, i increments to 1 and the list element with index i = 1 is now 2, and the element with index i + 1 = 2 is 3. It will first check if 2.5 is larger than 2, then it checks if 2.5 is less than 3. As both of these are correct, the code in the if-statement will execute and the loop will end because of the break statement.\n",
    "\n",
    "We would also need to store the value of the index i in a variable if we want to use this later in the code.\n",
    "\n",
    "The pseudocode above will not give us the required index if we give a point that is outside of the range of our dataset (we can't give a time that is earlier than the earliest time we have data for, or later than the latest time), it will also fail if we try to interpolate at a point where we have a measurement (for instance at the point 1 or 3). You can try to solve these issues with simple checks in your code."
   ]
  },
  {
   "cell_type": "markdown",
   "metadata": {},
   "source": [
    "## b)\n",
    "\n",
    "Implement the pseudocode above in your code from a), remember to store the index you find in a variable for use in the interpolation. \n",
    "\n",
    "When you run the block below it should print 7.857, and blue cross (the interpolated point) should lie on a straight line between the two adjacent red dots in the plot."
   ]
  },
  {
   "cell_type": "code",
   "execution_count": 25,
   "metadata": {},
   "outputs": [
    {
     "name": "stdout",
     "output_type": "stream",
     "text": [
      "7.857\n"
     ]
    },
    {
     "data": {
      "text/plain": [
       "<matplotlib.legend.Legend at 0x258ecee0fc8>"
      ]
     },
     "execution_count": 25,
     "metadata": {},
     "output_type": "execute_result"
    },
    {
     "data": {
      "image/png": "[encoded data removed]",
      "text/plain": [
       "<Figure size 432x288 with 1 Axes>"
      ]
     },
     "metadata": {
      "needs_background": "light"
     },
     "output_type": "display_data"
    }
   ],
   "source": [
    "import matplotlib.pyplot as plt\n",
    "\n",
    "dataset_x = [0.9,3.0,3.5,4.2,6.1]\n",
    "dataset_y = [2.0,4.1,8.4,6.5,9.9]\n",
    "point = 3.7\n",
    "\n",
    "def automatic_interpolation(x,y,point):\n",
    "    \"\"\"This function should take in two lists of corresponding data and \n",
    "    a point to interpolate\"\"\"\n",
    "    ## Write your code here\n",
    "\n",
    "    ### Creates lists with only the points we want to interpolate between for use in the function from a) \n",
    "    x_data = [x[index], x[index+1]]\n",
    "    y_data = [y[index], y[index+1]]\n",
    "    \n",
    "    inter_value = linear_interpolation(x_data,y_data,point)\n",
    "    return inter_value\n",
    "\n",
    "\n",
    "inter_val = automatic_interpolation(dataset_x,dataset_y, point)\n",
    "print(round(inter_val,3))\n",
    "\n",
    "plt.plot(dataset_x, dataset_y,\"ro\", label = \"Dataset\")\n",
    "plt.plot(point,inter_val,\"b+\", label = \"Interpolated point\")\n",
    "plt.legend()\n"
   ]
  },
  {
   "cell_type": "markdown",
   "metadata": {},
   "source": [
    "## Quadratic and cubic interpolation\n",
    "\n",
    "### Quadratic interpolation\n",
    "\n",
    "Linear interpolation is simple and quick, but it is not always a good fit for the data we are looking at, it is often more realistic that the measurements would change smoothly rather than the sudden change we assume in linear interpolation.\n",
    "\n",
    "A quadratic function or a cubic function can give us just that.\n",
    "\n",
    "If we want to find for instance a quadratic function that fits our points, we can start by assuming that we can fit a function on the form \n",
    "\n",
    "$$g(x) = k_0 + k_1 x + k_2 x^2$$\n",
    "\n",
    "(where $k_0,k_1, k_2$ are constants) to our data.\n",
    "\n",
    "This has 3 unknowns, so if we insert 3 points from our dataset and demand that the function should pass through the points $(x_0, f(x_0))$, $(x_1, f(x_1))$, $(x_2, f(x_2))$, we should be able to solve for the constants.\n",
    "\n",
    "The above form of the function $f(x)$ is not the most practical for interpolation, if we instead write our quadratic function on the form\n",
    "\n",
    "$$f(x) = c_0 + c_1 (x-x_0) + c_2 (x-x_0)(x-x_1)$$\n",
    "\n",
    "it becomes easier to solve for our constants. It can also be expanded to higher order polynomials easier.\n",
    "\n",
    "We will not go through the solution for the constants here, but simply present the equations.\n",
    "\n",
    "$$c_0 = f(x_0)\\\\ c_1 = \\frac{f(x_1)-c_0}{x_1-x_0} \\\\ c_2 = \\frac{f(x_2)-c_0-c_1(x_2-x_0)}{(x_2-x_0)(x_2-x_1)} $$\n",
    "\n",
    "Note that we need 3 points to interpolate here, to do linear interpolation we needed only 2 points.\n",
    "\n",
    "Also note that we can reuse the logic from b) for finding the index here, we simply use the index i for $x_1, f(x_1)$ and then use i-1 and i+1 to interpolate."
   ]
  },
  {
   "cell_type": "markdown",
   "metadata": {},
   "source": [
    "## c)\n",
    "\n",
    "Implement the quadratic interpolation above and run it on the same dataset as you used in b), with the new point given below.\n"
   ]
  },
  {
   "cell_type": "code",
   "execution_count": 45,
   "metadata": {},
   "outputs": [
    {
     "name": "stdout",
     "output_type": "stream",
     "text": [
      "8.694285714285716\n"
     ]
    },
    {
     "data": {
      "text/plain": [
       "<matplotlib.legend.Legend at 0x258eea3cc88>"
      ]
     },
     "execution_count": 45,
     "metadata": {},
     "output_type": "execute_result"
    },
    {
     "data": {
      "image/png": "[encoded data removed]",
      "text/plain": [
       "<Figure size 432x288 with 1 Axes>"
      ]
     },
     "metadata": {
      "needs_background": "light"
     },
     "output_type": "display_data"
    }
   ],
   "source": [
    "import numpy as np\n",
    "\n",
    "point = 3.6\n",
    "\n",
    "def automatic_quadratic(x,y,point, plot):\n",
    "    ### reuse your logic for finding the index here:\n",
    "    \n",
    "    \n",
    "\n",
    "    x_data = #define the proper lists for the quadratic_interpolation function here\n",
    "    y_data = #define the proper lists for the quadratic_interpolation function here\n",
    "    c_0,c_1,c_2 = quadratic_interpolation(x_data,y_data)\n",
    "    \n",
    "    inter_val = c_0 + c_1 * (point-x_data[0])+c_2*(point-x_data[0])*(point-x_data[1])\n",
    "    \n",
    "    if plot == \"y\":\n",
    "        xrange = np.linspace(x_data[0],x_data[2],100)\n",
    "        yrange = c_0 + c_1* (xrange-x_data[0])+c_2*(xrange-x_data[0])*(xrange-x_data[1])\n",
    "        plt.plot(xrange,yrange, label = \"Quadratic interpolation\")\n",
    "    \n",
    "    return inter_val\n",
    "\n",
    "def quadratic_interpolation(x,y):\n",
    "    '''This function should find the constants defined above from the 2 lists\n",
    "    of 3 x and y-coordinates and return the constants'''\n",
    "    ## Write your code here\n",
    "\n",
    "    return c_0,c_1,c_2\n",
    "\n",
    "inter_val = automatic_quadratic(dataset_x,dataset_y,point,\"y\")\n",
    "print(inter_val)\n",
    "plt.plot(point, inter_val, \"go\", label = \"Interpolated point\")\n",
    "plt.plot(dataset_x, dataset_y, \"ro\")\n",
    "plt.legend()"
   ]
  },
  {
   "cell_type": "code",
   "execution_count": null,
   "metadata": {},
   "outputs": [],
   "source": []
  },
  {
   "cell_type": "code",
   "execution_count": null,
   "metadata": {},
   "outputs": [],
   "source": []
  }
 ],
 "metadata": {
  "kernelspec": {
   "display_name": "Python 3",
   "language": "python",
   "name": "python3"
  },
  "language_info": {
   "codemirror_mode": {
    "name": "ipython",
    "version": 3
   },
   "file_extension": ".py",
   "mimetype": "text/x-python",
   "name": "python",
   "nbconvert_exporter": "python",
   "pygments_lexer": "ipython3",
   "version": "3.7.6"
  }
 },
 "nbformat": 4,
 "nbformat_minor": 4
}
